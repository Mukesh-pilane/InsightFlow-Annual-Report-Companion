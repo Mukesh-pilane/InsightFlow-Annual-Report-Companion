{
 "cells": [
  {
   "cell_type": "code",
   "execution_count": 7,
   "metadata": {},
   "outputs": [],
   "source": [
    "from pprint import pprint"
   ]
  },
  {
   "cell_type": "code",
   "execution_count": 8,
   "metadata": {},
   "outputs": [],
   "source": [
    "import fitz  # import package PyMuPDF\n",
    "\n",
    "# Open some document, for example a PDF (could also be EPUB, XPS, etc.)\n",
    "doc = fitz.open(\"Reports/tcs.pdf\")"
   ]
  },
  {
   "cell_type": "code",
   "execution_count": 9,
   "metadata": {},
   "outputs": [],
   "source": [
    "def is_rectangle_outside_all(input_rectangle, all_rectangles):\n",
    "    x0_input, y0_input, x1_input, y1_input = input_rectangle\n",
    "\n",
    "    for rectangle in all_rectangles:\n",
    "        x0, y0, x1, y1 = rectangle\n",
    "\n",
    "        # Check if input rectangle is entirely to the left or right of the current rectangle\n",
    "        if x1_input <= x0 or x0_input >= x1:\n",
    "            continue\n",
    "\n",
    "        # Check if input rectangle is entirely above or below the current rectangle\n",
    "        if y1_input <= y0 or y0_input >= y1:\n",
    "            continue\n",
    "\n",
    "        # If any overlap is found, return False\n",
    "        return False\n",
    "\n",
    "    # If no overlap is found with any rectangle, return True\n",
    "    return True\n",
    "def is_rectangle_outside_all(input_rectangle, all_rectangles):\n",
    "    x0_input, y0_input, x1_input, y1_input = input_rectangle\n",
    "\n",
    "    for rectangle in all_rectangles:\n",
    "        x0, y0, x1, y1 = rectangle\n",
    "\n",
    "        # Check if input rectangle is entirely to the left or right of the current rectangle\n",
    "        if x1_input <= x0 or x0_input >= x1:\n",
    "            continue\n",
    "\n",
    "        # Check if input rectangle is entirely above or below the current rectangle\n",
    "        if y1_input <= y0 or y0_input >= y1:\n",
    "            continue\n",
    "\n",
    "        # If any overlap is found, return False\n",
    "        return False\n",
    "\n",
    "    # If no overlap is found with any rectangle, return True\n",
    "    return True\n"
   ]
  },
  {
   "cell_type": "code",
   "execution_count": 10,
   "metadata": {},
   "outputs": [],
   "source": [
    "page = doc[106]  # this is the first page"
   ]
  },
  {
   "cell_type": "code",
   "execution_count": 11,
   "metadata": {},
   "outputs": [],
   "source": [
    "blocks = page.get_text(\"dict\")[\"blocks\"]"
   ]
  },
  {
   "cell_type": "code",
   "execution_count": 12,
   "metadata": {},
   "outputs": [],
   "source": [
    "tabs = page.find_tables()\n",
    "l=len(tabs.tables)\n",
    "page_all_table_bbox=[]\n",
    "for i in range(l):\n",
    "    page_all_table_bbox.append(tabs[i].bbox)"
   ]
  },
  {
   "cell_type": "code",
   "execution_count": 13,
   "metadata": {},
   "outputs": [
    {
     "data": {
      "text/plain": [
       "[['', 'FY 2023', 'FY 2022', 'FY 2023', 'FY 2022', 'FY 2023', 'FY 2022'],\n",
       " [None, 'Current', None, 'Non-current', None, 'Total funds invested', None],\n",
       " ['Investments in mutual funds, Government\\nsecurities and others',\n",
       "  '36,897',\n",
       "  '30,262',\n",
       "  '230',\n",
       "  '187',\n",
       "  '37,127',\n",
       "  '30,449'],\n",
       " ['Deposits with banks',\n",
       "  '8,223',\n",
       "  '15,784',\n",
       "  '1,334',\n",
       "  '1,232',\n",
       "  '9,557',\n",
       "  '17,016'],\n",
       " ['Inter-corporate deposits', '846', '6,074', '170', '303', '1,016', '6,377'],\n",
       " ['Cash and bank balances', '2,124', '2,211', '-', '-', '2,124', '2,211'],\n",
       " ['Total', '48,090', '54,331', '1,734', '1,722', '49,824', '56,053']]"
      ]
     },
     "execution_count": 13,
     "metadata": {},
     "output_type": "execute_result"
    }
   ],
   "source": [
    "tabs[0].extract()"
   ]
  },
  {
   "cell_type": "code",
   "execution_count": 65,
   "metadata": {},
   "outputs": [
    {
     "data": {
      "text/html": [
       "<div>\n",
       "<style scoped>\n",
       "    .dataframe tbody tr th:only-of-type {\n",
       "        vertical-align: middle;\n",
       "    }\n",
       "\n",
       "    .dataframe tbody tr th {\n",
       "        vertical-align: top;\n",
       "    }\n",
       "\n",
       "    .dataframe thead th {\n",
       "        text-align: right;\n",
       "    }\n",
       "</style>\n",
       "<table border=\"1\" class=\"dataframe\">\n",
       "  <thead>\n",
       "    <tr style=\"text-align: right;\">\n",
       "      <th></th>\n",
       "      <th>Col0</th>\n",
       "      <th>1-FY 2023</th>\n",
       "      <th>2-FY 2022</th>\n",
       "      <th>3-FY 2023</th>\n",
       "      <th>4-FY 2022</th>\n",
       "      <th>5-FY 2023</th>\n",
       "      <th>6-FY 2022</th>\n",
       "    </tr>\n",
       "  </thead>\n",
       "  <tbody>\n",
       "    <tr>\n",
       "      <th>0</th>\n",
       "      <td>None</td>\n",
       "      <td>Current</td>\n",
       "      <td>None</td>\n",
       "      <td>Non-current</td>\n",
       "      <td>None</td>\n",
       "      <td>Total funds invested</td>\n",
       "      <td>None</td>\n",
       "    </tr>\n",
       "    <tr>\n",
       "      <th>1</th>\n",
       "      <td>Investments in mutual funds, Government\\nsecur...</td>\n",
       "      <td>36,897</td>\n",
       "      <td>30,262</td>\n",
       "      <td>230</td>\n",
       "      <td>187</td>\n",
       "      <td>37,127</td>\n",
       "      <td>30,449</td>\n",
       "    </tr>\n",
       "    <tr>\n",
       "      <th>2</th>\n",
       "      <td>Deposits with banks</td>\n",
       "      <td>8,223</td>\n",
       "      <td>15,784</td>\n",
       "      <td>1,334</td>\n",
       "      <td>1,232</td>\n",
       "      <td>9,557</td>\n",
       "      <td>17,016</td>\n",
       "    </tr>\n",
       "    <tr>\n",
       "      <th>3</th>\n",
       "      <td>Inter-corporate deposits</td>\n",
       "      <td>846</td>\n",
       "      <td>6,074</td>\n",
       "      <td>170</td>\n",
       "      <td>303</td>\n",
       "      <td>1,016</td>\n",
       "      <td>6,377</td>\n",
       "    </tr>\n",
       "    <tr>\n",
       "      <th>4</th>\n",
       "      <td>Cash and bank balances</td>\n",
       "      <td>2,124</td>\n",
       "      <td>2,211</td>\n",
       "      <td>-</td>\n",
       "      <td>-</td>\n",
       "      <td>2,124</td>\n",
       "      <td>2,211</td>\n",
       "    </tr>\n",
       "    <tr>\n",
       "      <th>5</th>\n",
       "      <td>Total</td>\n",
       "      <td>48,090</td>\n",
       "      <td>54,331</td>\n",
       "      <td>1,734</td>\n",
       "      <td>1,722</td>\n",
       "      <td>49,824</td>\n",
       "      <td>56,053</td>\n",
       "    </tr>\n",
       "  </tbody>\n",
       "</table>\n",
       "</div>"
      ],
      "text/plain": [
       "                                                Col0 1-FY 2023 2-FY 2022  \\\n",
       "0                                               None   Current      None   \n",
       "1  Investments in mutual funds, Government\\nsecur...    36,897    30,262   \n",
       "2                                Deposits with banks     8,223    15,784   \n",
       "3                           Inter-corporate deposits       846     6,074   \n",
       "4                             Cash and bank balances     2,124     2,211   \n",
       "5                                              Total    48,090    54,331   \n",
       "\n",
       "     3-FY 2023 4-FY 2022             5-FY 2023 6-FY 2022  \n",
       "0  Non-current      None  Total funds invested      None  \n",
       "1          230       187                37,127    30,449  \n",
       "2        1,334     1,232                 9,557    17,016  \n",
       "3          170       303                 1,016     6,377  \n",
       "4            -         -                 2,124     2,211  \n",
       "5        1,734     1,722                49,824    56,053  "
      ]
     },
     "execution_count": 65,
     "metadata": {},
     "output_type": "execute_result"
    }
   ],
   "source": [
    "tabs[0].to_pandas()"
   ]
  },
  {
   "cell_type": "code",
   "execution_count": 63,
   "metadata": {},
   "outputs": [
    {
     "data": {
      "text/plain": [
       "[(54.125, 102.65790608723958, 540.4500045776367, 202.90790608723958), (54.125, 258.5657846551192, 540.4500045776367, 649.0657276826746)]"
      ]
     },
     "execution_count": 63,
     "metadata": {},
     "output_type": "execute_result"
    }
   ],
   "source": [
    "page_all_table_bbox"
   ]
  },
  {
   "cell_type": "code",
   "execution_count": null,
   "metadata": {},
   "outputs": [],
   "source": [
    "text=\"\"\n",
    "table_counter=0\n",
    "for b in blocks:  # iterate through the text blocks\n",
    "   if \"lines\" in b: \n",
    "    for l in b[\"lines\"]:  # iterate through the text lines\n",
    "        for s in l[\"spans\"]:  # iterate through the text spans\n",
    "            if is_rectangle_outside_all(b[\"bbox\"], page_all_table_bbox):\n",
    "                text += ' ' + s[\"text\"]\n",
    "            else:\n",
    "                text+= ' ' + f'{tabs[table_counter].extract()}'\n",
    "                table_counter=1"
   ]
  },
  {
   "cell_type": "code",
   "execution_count": null,
   "metadata": {},
   "outputs": [],
   "source": [
    "page.get_textbox(rect=(54.125, 192.6009286733774, 539.875, 325.8509063720703))"
   ]
  },
  {
   "cell_type": "code",
   "execution_count": null,
   "metadata": {},
   "outputs": [],
   "source": [
    "print(text)"
   ]
  },
  {
   "cell_type": "code",
   "execution_count": null,
   "metadata": {},
   "outputs": [],
   "source": [
    "page.get_textbox(rect=(54.125, 192.6009286733774, 539.875, 325.8509063720703))"
   ]
  },
  {
   "cell_type": "code",
   "execution_count": null,
   "metadata": {},
   "outputs": [],
   "source": [
    "print(page.get_text())"
   ]
  },
  {
   "cell_type": "code",
   "execution_count": 39,
   "metadata": {},
   "outputs": [
    {
     "name": "stdout",
     "output_type": "stream",
     "text": [
      "3 table(s) on page 45 of Reports/tcs.pdf\n"
     ]
    }
   ],
   "source": [
    "tabs = page.find_tables()\n",
    "print(f\"{len(tabs.tables)} table(s) on {page}\")\n",
    "# pprint(tabs[0].extract())"
   ]
  },
  {
   "cell_type": "code",
   "execution_count": 40,
   "metadata": {},
   "outputs": [
    {
     "data": {
      "text/plain": [
       "[['Transactoi ns', 'Tata Sons\\nPrivate\\nLimited', 'Other than\\nwholly owned\\nsubsidiaries of\\nthe Company', 'Subsidiaries of Tata\\nSons Private Limited', 'Associates/joint\\nventures of Tata Sons\\nPrivate Limited and their\\nsubsidiaries', 'Total'], ['IT/ITE services rendered', '38', '1,063', '1,152', '2,506', '4,759'], ['Other income', '-', '-', '-', '-', '-'], ['Procurement of goods and\\nservices', '-', '59', '577', '363', '1,000'], ['Brand equity contribution', '99', '-', '-', '-', '99'], ['Non IT/ITE services availed', '1', '-', '23', '59', '83'], ['Lease rental', '-', '-', '56', '47', '103']]"
      ]
     },
     "execution_count": 40,
     "metadata": {},
     "output_type": "execute_result"
    }
   ],
   "source": [
    "tabs[0].extract()"
   ]
  },
  {
   "cell_type": "code",
   "execution_count": 41,
   "metadata": {},
   "outputs": [],
   "source": [
    "mudf = tabs[0].to_pandas()"
   ]
  },
  {
   "cell_type": "code",
   "execution_count": 42,
   "metadata": {},
   "outputs": [
    {
     "data": {
      "text/html": [
       "<div>\n",
       "<style scoped>\n",
       "    .dataframe tbody tr th:only-of-type {\n",
       "        vertical-align: middle;\n",
       "    }\n",
       "\n",
       "    .dataframe tbody tr th {\n",
       "        vertical-align: top;\n",
       "    }\n",
       "\n",
       "    .dataframe thead th {\n",
       "        text-align: right;\n",
       "    }\n",
       "</style>\n",
       "<table border=\"1\" class=\"dataframe\">\n",
       "  <thead>\n",
       "    <tr style=\"text-align: right;\">\n",
       "      <th></th>\n",
       "      <th>Year ended March 31, 2023</th>\n",
       "      <th>Col1</th>\n",
       "      <th>Col2</th>\n",
       "      <th>Col3</th>\n",
       "      <th>Col4</th>\n",
       "      <th>(` crore)</th>\n",
       "    </tr>\n",
       "  </thead>\n",
       "  <tbody>\n",
       "    <tr>\n",
       "      <th>0</th>\n",
       "      <td>Transactoi ns</td>\n",
       "      <td>Tata Sons\\nPrivate\\nLimited</td>\n",
       "      <td>Other than\\nwholly owned\\nsubsidiaries of\\nthe...</td>\n",
       "      <td>Subsidiaries of Tata\\nSons Private Limited</td>\n",
       "      <td>Associates/joint\\nventures of Tata Sons\\nPriva...</td>\n",
       "      <td>Total</td>\n",
       "    </tr>\n",
       "    <tr>\n",
       "      <th>1</th>\n",
       "      <td>IT/ITE services rendered</td>\n",
       "      <td>38</td>\n",
       "      <td>1,063</td>\n",
       "      <td>1,152</td>\n",
       "      <td>2,506</td>\n",
       "      <td>4,759</td>\n",
       "    </tr>\n",
       "    <tr>\n",
       "      <th>2</th>\n",
       "      <td>Other income</td>\n",
       "      <td>-</td>\n",
       "      <td>-</td>\n",
       "      <td>-</td>\n",
       "      <td>-</td>\n",
       "      <td>-</td>\n",
       "    </tr>\n",
       "    <tr>\n",
       "      <th>3</th>\n",
       "      <td>Procurement of goods and\\nservices</td>\n",
       "      <td>-</td>\n",
       "      <td>59</td>\n",
       "      <td>577</td>\n",
       "      <td>363</td>\n",
       "      <td>1,000</td>\n",
       "    </tr>\n",
       "    <tr>\n",
       "      <th>4</th>\n",
       "      <td>Brand equity contribution</td>\n",
       "      <td>99</td>\n",
       "      <td>-</td>\n",
       "      <td>-</td>\n",
       "      <td>-</td>\n",
       "      <td>99</td>\n",
       "    </tr>\n",
       "    <tr>\n",
       "      <th>5</th>\n",
       "      <td>Non IT/ITE services availed</td>\n",
       "      <td>1</td>\n",
       "      <td>-</td>\n",
       "      <td>23</td>\n",
       "      <td>59</td>\n",
       "      <td>83</td>\n",
       "    </tr>\n",
       "    <tr>\n",
       "      <th>6</th>\n",
       "      <td>Lease rental</td>\n",
       "      <td>-</td>\n",
       "      <td>-</td>\n",
       "      <td>56</td>\n",
       "      <td>47</td>\n",
       "      <td>103</td>\n",
       "    </tr>\n",
       "  </tbody>\n",
       "</table>\n",
       "</div>"
      ],
      "text/plain": [
       "            Year ended March 31, 2023                         Col1  \\\n",
       "0                       Transactoi ns  Tata Sons\\nPrivate\\nLimited   \n",
       "1            IT/ITE services rendered                           38   \n",
       "2                        Other income                            -   \n",
       "3  Procurement of goods and\\nservices                            -   \n",
       "4           Brand equity contribution                           99   \n",
       "5         Non IT/ITE services availed                            1   \n",
       "6                        Lease rental                            -   \n",
       "\n",
       "                                                Col2  \\\n",
       "0  Other than\\nwholly owned\\nsubsidiaries of\\nthe...   \n",
       "1                                              1,063   \n",
       "2                                                  -   \n",
       "3                                                 59   \n",
       "4                                                  -   \n",
       "5                                                  -   \n",
       "6                                                  -   \n",
       "\n",
       "                                         Col3  \\\n",
       "0  Subsidiaries of Tata\\nSons Private Limited   \n",
       "1                                       1,152   \n",
       "2                                           -   \n",
       "3                                         577   \n",
       "4                                           -   \n",
       "5                                          23   \n",
       "6                                          56   \n",
       "\n",
       "                                                Col4 (` crore)  \n",
       "0  Associates/joint\\nventures of Tata Sons\\nPriva...     Total  \n",
       "1                                              2,506     4,759  \n",
       "2                                                  -         -  \n",
       "3                                                363     1,000  \n",
       "4                                                  -        99  \n",
       "5                                                 59        83  \n",
       "6                                                 47       103  "
      ]
     },
     "execution_count": 42,
     "metadata": {},
     "output_type": "execute_result"
    }
   ],
   "source": [
    "mudf"
   ]
  },
  {
   "cell_type": "code",
   "execution_count": 2,
   "metadata": {},
   "outputs": [],
   "source": [
    "import camelot"
   ]
  },
  {
   "cell_type": "code",
   "execution_count": 66,
   "metadata": {},
   "outputs": [],
   "source": [
    "page_table = camelot.read_pdf('Reports/tcs.pdf', flavor='stream', pages=\"106\")"
   ]
  },
  {
   "cell_type": "code",
   "execution_count": 67,
   "metadata": {},
   "outputs": [
    {
     "data": {
      "text/plain": [
       "<TableList n=1>"
      ]
     },
     "execution_count": 67,
     "metadata": {},
     "output_type": "execute_result"
    }
   ],
   "source": [
    "page_table"
   ]
  },
  {
   "cell_type": "code",
   "execution_count": 68,
   "metadata": {},
   "outputs": [],
   "source": [
    "import pprint"
   ]
  },
  {
   "cell_type": "code",
   "execution_count": 69,
   "metadata": {},
   "outputs": [
    {
     "data": {
      "text/plain": [
       "['__class__', '__delattr__', '__dict__', '__dir__', '__doc__', '__eq__', '__format__', '__ge__', '__getattribute__', '__gt__', '__hash__', '__init__', '__init_subclass__', '__le__', '__lt__', '__module__', '__ne__', '__new__', '__reduce__', '__reduce_ex__', '__repr__', '__setattr__', '__sizeof__', '__str__', '__subclasshook__', '__weakref__', '_bbox', '_image', '_segments', '_text', '_textedges', 'accuracy', 'cells', 'cols', 'data', 'df', 'flavor', 'order', 'page', 'parsing_report', 'rows', 'set_all_edges', 'set_border', 'set_edges', 'set_span', 'shape', 'to_csv', 'to_excel', 'to_html', 'to_json', 'to_sqlite', 'whitespace']"
      ]
     },
     "execution_count": 69,
     "metadata": {},
     "output_type": "execute_result"
    }
   ],
   "source": [
    "dir(page_table[0])"
   ]
  },
  {
   "cell_type": "code",
   "execution_count": 70,
   "metadata": {},
   "outputs": [
    {
     "data": {
      "text/plain": [
       "[<TextEdge x=249.5 y0=525.96 y1=539.96 align=right valid=False>, <TextEdge x=705.0 y0=504.69 y1=513.69 align=right valid=False>, <TextEdge x=407.57 y0=478.46 y1=500.21 align=right valid=False>, <TextEdge x=668.53 y0=491.21 y1=500.21 align=right valid=False>, <TextEdge x=239.56 y0=478.46 y1=487.46 align=right valid=False>, <TextEdge x=281.56 y0=478.46 y1=487.46 align=right valid=False>, <TextEdge x=325.81 y0=478.46 y1=487.46 align=right valid=False>, <TextEdge x=365.57 y0=478.46 y1=487.46 align=right valid=False>, <TextEdge x=449.58 y0=478.46 y1=487.46 align=right valid=False>, <TextEdge x=491.58 y0=478.46 y1=487.46 align=right valid=False>, <TextEdge x=533.58 y0=478.46 y1=487.46 align=right valid=False>, <TextEdge x=575.58 y0=478.46 y1=487.46 align=right valid=False>, <TextEdge x=619.83 y0=478.46 y1=487.46 align=right valid=False>, <TextEdge x=659.59 y0=478.46 y1=487.46 align=right valid=False>, <TextEdge x=701.59 y0=478.46 y1=487.46 align=right valid=False>, <TextEdge x=166.74 y0=464.73 y1=473.73 align=right valid=False>, <TextEdge x=181.09 y0=451.71 y1=460.71 align=right valid=False>, <TextEdge x=245.29 y0=107.21 y1=460.71 align=right valid=True>, <TextEdge x=287.29 y0=107.21 y1=460.71 align=right valid=True>, <TextEdge x=329.29 y0=107.21 y1=460.71 align=right valid=True>, <TextEdge x=371.29 y0=107.21 y1=460.71 align=right valid=True>, <TextEdge x=413.29 y0=107.21 y1=460.71 align=right valid=True>, <TextEdge x=455.3 y0=107.21 y1=460.71 align=right valid=True>, <TextEdge x=497.3 y0=107.21 y1=460.71 align=right valid=True>, <TextEdge x=539.3 y0=107.21 y1=460.71 align=right valid=True>, <TextEdge x=581.31 y0=107.21 y1=460.71 align=right valid=True>, <TextEdge x=623.31 y0=107.21 y1=460.71 align=right valid=True>, <TextEdge x=665.31 y0=107.21 y1=460.71 align=right valid=True>, <TextEdge x=707.31 y0=107.21 y1=460.71 align=right valid=True>, <TextEdge x=196.24 y0=438.24 y1=447.24 align=right valid=False>, <TextEdge x=105.38 y0=426.21 y1=435.21 align=right valid=False>, <TextEdge x=98.02 y0=413.45 y1=422.45 align=right valid=False>, <TextEdge x=90.02 y0=400.7 y1=409.7 align=right valid=False>, <TextEdge x=96.64 y0=387.95 y1=396.95 align=right valid=False>, <TextEdge x=88.5 y0=374.47 y1=383.47 align=right valid=False>, <TextEdge x=124.68 y0=362.44 y1=371.44 align=right valid=False>, <TextEdge x=146.87 y0=349.69 y1=358.69 align=right valid=False>, <TextEdge x=184.83 y0=336.93 y1=345.93 align=right valid=False>, <TextEdge x=120.45 y0=325.94 y1=334.94 align=right valid=False>, <TextEdge x=116.4 y0=312.46 y1=321.46 align=right valid=False>, <TextEdge x=180.03 y0=274.92 y1=309.43 align=right valid=False>, <TextEdge x=130.5 y0=287.68 y1=296.68 align=right valid=False>, <TextEdge x=178.68 y0=263.93 y1=272.93 align=right valid=False>, <TextEdge x=137.77 y0=250.45 y1=259.45 align=right valid=False>, <TextEdge x=142.53 y0=238.42 y1=247.42 align=right valid=False>, <TextEdge x=148.2 y0=225.67 y1=234.67 align=right valid=False>, <TextEdge x=112.06 y0=201.92 y1=210.92 align=right valid=False>, <TextEdge x=138.32 y0=176.41 y1=185.41 align=right valid=False>, <TextEdge x=156.48 y0=162.94 y1=172.66 align=right valid=False>, <TextEdge x=132.45 y0=150.9 y1=159.9 align=right valid=False>, <TextEdge x=150.54 y0=124.68 y1=133.68 align=right valid=False>, <TextEdge x=198.62 y0=112.65 y1=121.65 align=right valid=False>, <TextEdge x=131.44 y0=101.65 y1=110.96 align=right valid=False>, <TextEdge x=297.88 y0=83.28 y1=92.28 align=right valid=False>, <TextEdge x=215.83 y0=70.48 y1=79.48 align=right valid=False>, <TextEdge x=262.32 y0=57.68 y1=66.68 align=right valid=False>]"
      ]
     },
     "execution_count": 70,
     "metadata": {},
     "output_type": "execute_result"
    }
   ],
   "source": [
    "page_table[0]._textedges"
   ]
  },
  {
   "cell_type": "code",
   "execution_count": 74,
   "metadata": {},
   "outputs": [],
   "source": [
    "df=page_table[0].df"
   ]
  },
  {
   "cell_type": "code",
   "execution_count": 77,
   "metadata": {},
   "outputs": [
    {
     "data": {
      "text/plain": [
       "['T', '_AXIS_LEN', '_AXIS_ORDERS', '_AXIS_REVERSED', '_AXIS_TO_AXIS_NUMBER', '_HANDLED_TYPES', '__abs__', '__add__', '__and__', '__annotations__', '__array__', '__array_priority__', '__array_ufunc__', '__array_wrap__', '__bool__', '__class__', '__contains__', '__copy__', '__deepcopy__', '__delattr__', '__delitem__', '__dict__', '__dir__', '__divmod__', '__doc__', '__eq__', '__finalize__', '__floordiv__', '__format__', '__ge__', '__getattr__', '__getattribute__', '__getitem__', '__getstate__', '__gt__', '__hash__', '__iadd__', '__iand__', '__ifloordiv__', '__imod__', '__imul__', '__init__', '__init_subclass__', '__invert__', '__ior__', '__ipow__', '__isub__', '__iter__', '__itruediv__', '__ixor__', '__le__', '__len__', '__lt__', '__matmul__', '__mod__', '__module__', '__mul__', '__ne__', '__neg__', '__new__', '__nonzero__', '__or__', '__pos__', '__pow__', '__radd__', '__rand__', '__rdivmod__', '__reduce__', '__reduce_ex__', '__repr__', '__rfloordiv__', '__rmatmul__', '__rmod__', '__rmul__', '__ror__', '__round__', '__rpow__', '__rsub__', '__rtruediv__', '__rxor__', '__setattr__', '__setitem__', '__setstate__', '__sizeof__', '__str__', '__sub__', '__subclasshook__', '__truediv__', '__weakref__', '__xor__', '_accessors', '_accum_func', '_add_numeric_operations', '_agg_by_level', '_agg_examples_doc', '_agg_summary_and_see_also_doc', '_align_frame', '_align_series', '_arith_method', '_as_manager', '_attrs', '_box_col_values', '_can_fast_transpose', '_check_inplace_and_allows_duplicate_labels', '_check_inplace_setting', '_check_is_chained_assignment_possible', '_check_label_or_level_ambiguity', '_check_setitem_copy', '_clear_item_cache', '_clip_with_one_bound', '_clip_with_scalar', '_cmp_method', '_combine_frame', '_consolidate', '_consolidate_inplace', '_construct_axes_dict', '_construct_axes_from_arguments', '_construct_result', '_constructor', '_constructor_sliced', '_convert', '_count_level', '_data', '_dir_additions', '_dir_deletions', '_dispatch_frame_op', '_drop_axis', '_drop_labels_or_levels', '_ensure_valid_index', '_find_valid_index', '_flags', '_from_arrays', '_from_mgr', '_get_agg_axis', '_get_axis', '_get_axis_name', '_get_axis_number', '_get_axis_resolvers', '_get_block_manager_axis', '_get_bool_data', '_get_cleaned_column_resolvers', '_get_column_array', '_get_index_resolvers', '_get_item_cache', '_get_label_or_level_values', '_get_numeric_data', '_get_value', '_getitem_bool_array', '_getitem_multilevel', '_gotitem', '_hidden_attrs', '_indexed_same', '_info_axis', '_info_axis_name', '_info_axis_number', '_info_repr', '_init_mgr', '_inplace_method', '_internal_names', '_internal_names_set', '_is_copy', '_is_homogeneous_type', '_is_label_or_level_reference', '_is_label_reference', '_is_level_reference', '_is_mixed_type', '_is_view', '_iset_item', '_iset_item_mgr', '_iset_not_inplace', '_item_cache', '_iter_column_arrays', '_ixs', '_join_compat', '_logical_func', '_logical_method', '_maybe_cache_changed', '_maybe_update_cacher', '_metadata', '_mgr', '_min_count_stat_function', '_needs_reindex_multi', '_protect_consolidate', '_reduce', '_reindex_axes', '_reindex_columns', '_reindex_index', '_reindex_multi', '_reindex_with_indexers', '_replace_columnwise', '_repr_data_resource_', '_repr_fits_horizontal_', '_repr_fits_vertical_', '_repr_html_', '_repr_latex_', '_reset_cache', '_reset_cacher', '_sanitize_column', '_series', '_set_axis', '_set_axis_name', '_set_axis_nocheck', '_set_is_copy', '_set_item', '_set_item_frame_value', '_set_item_mgr', '_set_value', '_setitem_array', '_setitem_frame', '_setitem_slice', '_slice', '_stat_axis', '_stat_axis_name', '_stat_axis_number', '_stat_function', '_stat_function_ddof', '_take_with_is_copy', '_to_dict_of_blocks', '_typ', '_update_inplace', '_validate_dtype', '_values', '_where', 'abs', 'add', 'add_prefix', 'add_suffix', 'agg', 'aggregate', 'align', 'all', 'any', 'append', 'apply', 'applymap', 'asfreq', 'asof', 'assign', 'astype', 'at', 'at_time', 'attrs', 'axes', 'backfill', 'between_time', 'bfill', 'bool', 'boxplot', 'clip', 'columns', 'combine', 'combine_first', 'compare', 'convert_dtypes', 'copy', 'corr', 'corrwith', 'count', 'cov', 'cummax', 'cummin', 'cumprod', 'cumsum', 'describe', 'diff', 'div', 'divide', 'dot', 'drop', 'drop_duplicates', 'droplevel', 'dropna', 'dtypes', 'duplicated', 'empty', 'eq', 'equals', 'eval', 'ewm', 'expanding', 'explode', 'ffill', 'fillna', 'filter', 'first', 'first_valid_index', 'flags', 'floordiv', 'from_dict', 'from_records', 'ge', 'get', 'groupby', 'gt', 'head', 'hist', 'iat', 'idxmax', 'idxmin', 'iloc', 'index', 'infer_objects', 'info', 'insert', 'interpolate', 'isin', 'isna', 'isnull', 'items', 'iteritems', 'iterrows', 'itertuples', 'join', 'keys', 'kurt', 'kurtosis', 'last', 'last_valid_index', 'le', 'loc', 'lookup', 'lt', 'mad', 'mask', 'max', 'mean', 'median', 'melt', 'memory_usage', 'merge', 'min', 'mod', 'mode', 'mul', 'multiply', 'ndim', 'ne', 'nlargest', 'notna', 'notnull', 'nsmallest', 'nunique', 'pad', 'pct_change', 'pipe', 'pivot', 'pivot_table', 'plot', 'pop', 'pow', 'prod', 'product', 'quantile', 'query', 'radd', 'rank', 'rdiv', 'reindex', 'reindex_like', 'rename', 'rename_axis', 'reorder_levels', 'replace', 'resample', 'reset_index', 'rfloordiv', 'rmod', 'rmul', 'rolling', 'round', 'rpow', 'rsub', 'rtruediv', 'sample', 'select_dtypes', 'sem', 'set_axis', 'set_flags', 'set_index', 'shape', 'shift', 'size', 'skew', 'slice_shift', 'sort_index', 'sort_values', 'squeeze', 'stack', 'std', 'style', 'sub', 'subtract', 'sum', 'swapaxes', 'swaplevel', 'tail', 'take', 'to_clipboard', 'to_csv', 'to_dict', 'to_excel', 'to_feather', 'to_gbq', 'to_hdf', 'to_html', 'to_json', 'to_latex', 'to_markdown', 'to_numpy', 'to_parquet', 'to_period', 'to_pickle', 'to_records', 'to_sql', 'to_stata', 'to_string', 'to_timestamp', 'to_xarray', 'to_xml', 'transform', 'transpose', 'truediv', 'truncate', 'tz_convert', 'tz_localize', 'unstack', 'update', 'value_counts', 'values', 'var', 'where', 'xs']"
      ]
     },
     "execution_count": 77,
     "metadata": {},
     "output_type": "execute_result"
    }
   ],
   "source": [
    "dir(df)"
   ]
  },
  {
   "cell_type": "code",
   "execution_count": 82,
   "metadata": {},
   "outputs": [
    {
     "data": {
      "text/plain": [
       "<bound method NDFrame._clip_with_scalar of                                     0        1        2         3        4   \\\n",
       "0                                                                             \n",
       "1                                       FY 2023  FY 2022  FY 2021*  FY 2021   \n",
       "2              Revenue from operations                                        \n",
       "3        Total revenue from operations  225,458  191,754   164,177  164,177   \n",
       "4       Revenue by geographic segments                                        \n",
       "5                             Americas  124,336  100,072    84,278   84,278   \n",
       "6                               Europe   67,436   61,142    52,346   52,346   \n",
       "7                                India   11,271    9,805     8,449    8,449   \n",
       "8                               Others   22,415   20,735    19,104   19,104   \n",
       "9                                 Cost                                        \n",
       "10                       Employee cost  127,522  107,554    91,814   91,814   \n",
       "11                Other operating cost   38,677   31,143    25,817   27,035   \n",
       "12    Total cost (excluding interest &                                        \n",
       "13                                      166,199  138,697   117,631  118,849   \n",
       "14                       depreciation)                                        \n",
       "15                       Profitability                                        \n",
       "16        EBITDA (before other income)   59,259   53,057    46,546   45,328   \n",
       "17                   Profit before tax   56,907   51,687    44,978   43,760   \n",
       "18    Profit after tax attributable to                                        \n",
       "19                                       42,147   38,327    33,388   32,430   \n",
       "20         shareholders of the Company                                        \n",
       "21                  Financial Position                                        \n",
       "22                Equity share capital      366      366       370      370   \n",
       "23                Reserves and surplus   90,058   88,773    87,014   86,063   \n",
       "24  Gross block of property, plant and                                        \n",
       "25                                       32,344   30,300    28,658   28,658   \n",
       "26                           equipment                                        \n",
       "27                   Total investments   37,163   30,485    29,373   29,373   \n",
       "28                  Net current assets   66,712   65,959    66,076   65,125   \n",
       "29             Earnings per share in ₹                                        \n",
       "30                   EPS - as reported   115.19   103.62     89.27    86.71   \n",
       "31      EPS - adjusted for Bonus Issue   115.19   103.62     89.27    86.71   \n",
       "32                  Headcount (number)                                        \n",
       "33  Headcount (including subsidiaries)                                        \n",
       "34                                      614,795  592,195   488,649  488,649   \n",
       "35                    as on March 31st                                        \n",
       "\n",
       "         5        6        7        8        9         10           11  \\\n",
       "0    Ind AS                                                Indian GAAP   \n",
       "1   FY 2020  FY 2019  FY 2018  FY 2017  FY 2016  FY 2015#      FY 2015   \n",
       "2                                                                        \n",
       "3   156,949  146,463  123,104  117,966  108,646    94,648       94,648   \n",
       "4                                                                        \n",
       "5    82,000   77,562   66,145   66,091   60,011    51,053       51,053   \n",
       "6    48,037   43,456   34,155   30,038   29,092    26,730       26,730   \n",
       "7     8,964    8,393    7,921    7,415    6,729     6,108        6,108   \n",
       "8    17,948   17,052   14,883   14,422   12,814    10,757       10,757   \n",
       "9                                                                        \n",
       "10   85,952   78,246   66,396   61,621   55,348    48,296       50,924   \n",
       "11   28,888   28,711   24,192   24,034   22,621    19,242       19,242   \n",
       "12                                                                       \n",
       "13  114,840  106,957   90,588   85,655   77,969    67,538       70,166   \n",
       "14                                                                       \n",
       "15                                                                       \n",
       "16   42,109   39,506   32,516   32,311   30,677    27,110       24,482   \n",
       "17   42,248   41,563   34,092   34,513   31,840    28,437       25,809   \n",
       "18                                                                       \n",
       "19   32,340   31,472   25,826   26,289   24,270    21,912       19,852   \n",
       "20                                                                       \n",
       "21                                                                       \n",
       "22      375      375      191      197      197       196          196   \n",
       "23   83,751   89,071   84,937   86,017   70,875    52,499       50,439   \n",
       "24                                                                       \n",
       "25   26,444   24,522   22,720   20,891   19,308    16,624       16,624   \n",
       "26                                                                       \n",
       "27   26,356   29,330   36,008   41,980   22,822     1,662        1,662   \n",
       "28   63,177   70,047   63,396   65,804   47,644    30,726       28,495   \n",
       "29                                                                       \n",
       "30    86.19    83.05   134.19   133.41   123.18    111.87       101.35   \n",
       "31    86.19    83.05    67.10    66.71    61.59     55.94        50.68   \n",
       "32                                                                       \n",
       "33                                                                       \n",
       "34  448,464  424,285  394,998  387,223  353,843   319,656      319,656   \n",
       "35                                                                       \n",
       "\n",
       "         12  \n",
       "0            \n",
       "1   FY 2014  \n",
       "2            \n",
       "3    81,809  \n",
       "4            \n",
       "5    45,259  \n",
       "6    23,433  \n",
       "7     5,488  \n",
       "8     7,629  \n",
       "9            \n",
       "10   40,486  \n",
       "11   16,170  \n",
       "12           \n",
       "13   56,656  \n",
       "14           \n",
       "15           \n",
       "16   25,153  \n",
       "17   25,402  \n",
       "18           \n",
       "19   19,164  \n",
       "20           \n",
       "21           \n",
       "22      196  \n",
       "23   48,999  \n",
       "24           \n",
       "25   13,162  \n",
       "26           \n",
       "27    3,434  \n",
       "28   27,227  \n",
       "29           \n",
       "30    97.67  \n",
       "31    48.84  \n",
       "32           \n",
       "33           \n",
       "34  300,464  \n",
       "35           >"
      ]
     },
     "execution_count": 82,
     "metadata": {},
     "output_type": "execute_result"
    }
   ],
   "source": [
    "df._clip_with_scalar"
   ]
  },
  {
   "cell_type": "code",
   "execution_count": null,
   "metadata": {},
   "outputs": [],
   "source": []
  }
 ],
 "metadata": {
  "kernelspec": {
   "display_name": "Python 3",
   "language": "python",
   "name": "python3"
  },
  "language_info": {
   "codemirror_mode": {
    "name": "ipython",
    "version": 3
   },
   "file_extension": ".py",
   "mimetype": "text/x-python",
   "name": "python",
   "nbconvert_exporter": "python",
   "pygments_lexer": "ipython3",
   "version": "3.10.1"
  }
 },
 "nbformat": 4,
 "nbformat_minor": 2
}
