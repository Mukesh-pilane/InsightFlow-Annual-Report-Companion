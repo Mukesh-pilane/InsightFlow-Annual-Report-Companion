{
 "cells": [
  {
   "cell_type": "code",
   "execution_count": 35,
   "metadata": {},
   "outputs": [],
   "source": [
    "import pprint\n",
    "from PyPDF2 import PdfReader\n",
    "import re\n",
    "from langchain.text_splitter import RecursiveCharacterTextSplitter"
   ]
  },
  {
   "cell_type": "code",
   "execution_count": 36,
   "metadata": {},
   "outputs": [],
   "source": [
    "path = \"Reports/tcs.pdf\""
   ]
  },
  {
   "cell_type": "code",
   "execution_count": 37,
   "metadata": {},
   "outputs": [],
   "source": [
    "pdf= PdfReader(path)"
   ]
  },
  {
   "cell_type": "code",
   "execution_count": 54,
   "metadata": {},
   "outputs": [],
   "source": [
    "out =pdf.pages[3]"
   ]
  },
  {
   "cell_type": "code",
   "execution_count": 55,
   "metadata": {},
   "outputs": [
    {
     "name": "stdout",
     "output_type": "stream",
     "text": [
      "Board of Directors\n",
      "Don Callahan \n",
      "MM I\n",
      "Hanne Sorensen \n",
      "MM I\n",
      "Dr Pradeep Kumar\n",
      "Khosla \n",
      "CM I\n",
      "Keki Mistry\n",
      "CCM I\n",
      "N Chandrasekaran\n",
      "Chairman\n",
      "CCM N\n",
      "Aarthi\n",
      "Subramanian\n",
      "M N\n",
      "N G Subramaniam\n",
      "COO & ED\n",
      "MMNE\n",
      "K Krithivasan\n",
      "CEO & MD\n",
      "MMMNE\n",
      "C MM IO P Bha tt\n",
      "5663\n",
      "72\n",
      "  007\n",
      "16\n",
      "0406\n",
      "1156%\n",
      "Independe nt44%\n",
      "Non-Ind ependent\n",
      "C M Board Committ ees Chairman Member\n",
      "Executive\n",
      "Committ eeRisk Management\n",
      "Committ ee*\n",
      "*Samir Seksaria (Chief Financial Oﬃcer) is also a member of\n",
      "the CommitteeCorpor ate Social\n",
      "Responsibility Committ eeStakeholders’ Rela tionship\n",
      "Committ eeAudit Committ ee Nomina tion and\n",
      "Remunera tion Committ eeI\n",
      "NNEIndependent, Non-Ex ecutive Director\n",
      "Non-Independent, Ex ecutive Director\n",
      "Non-Independent, Non-Ex ecutive Director Average Age (years) \n",
      "Average T enure on\n",
      "the Board (years) \n",
      "Boar d Independen ce (%)\n",
      "Average T enure of Independent\n",
      "Directors on the Board (years) Non-Independent, Non Executive\n",
      "Non-Independent, ExecutiveIndependent, Non Executive\n",
      "Board of Directors   |  4\n"
     ]
    }
   ],
   "source": [
    "print(out.extract_text())"
   ]
  },
  {
   "cell_type": "code",
   "execution_count": 34,
   "metadata": {},
   "outputs": [],
   "source": [
    "from pdfminer.high_level import extract_text\n",
    "\n",
    "text = extract_text(path)"
   ]
  },
  {
   "cell_type": "code",
   "execution_count": 56,
   "metadata": {},
   "outputs": [
    {
     "name": "stdout",
     "output_type": "stream",
     "text": [
      "Board of Directors\n",
      "Non-Independent, Non Executive Independent, Non Executive\n",
      "N Chandrasekaran Aarthi O P Bhatt Dr Pradeep Kumar Hanne Sorensen\n",
      "Chairman Subramanian Khosla\n",
      "C C M N M N C M M I C M I M M I\n",
      "Non-Independent, Executive\n",
      "K Krithivasan N G Subramaniam Keki Mistry Don Callahan\n",
      "CEO & MD COO & ED\n",
      "M M M NE M M NE C C M I M M I\n",
      "I Independent, Non-Executive Director\n",
      "63\n",
      "NE Non-Independent, Executive Director Average Age (years)\n",
      "56 72\n",
      "N Non-Independent, Non-Executive Director\n",
      "Board Committees C Chairman M Member Average Tenure on 07\n",
      "the Board (years) 0 16\n",
      "Audit Committee Nomination and\n",
      "Remuneration Committee\n",
      "Board Independence (%)\n",
      "Stakeholders’ Relationship Corporate Social\n",
      "Committee Responsibility Committee 56% 44%\n",
      "Independent Non-Independent\n",
      "Executive Risk Management\n",
      "Committee Committee*\n",
      "Average Tenure of Independent 06\n",
      "*Samir Seksaria (Chief Financial Officer) is also a member of\n",
      "Directors on the Board (years) 04 11\n",
      "the Committee\n",
      "Board of Directors | 4\n"
     ]
    }
   ],
   "source": [
    "import pdfplumber\n",
    "plumb = pdfplumber.open(path)\n",
    "first_page = plumb.pages[3]\n",
    "print(first_page.extract_text(sort=False))"
   ]
  },
  {
   "cell_type": "code",
   "execution_count": null,
   "metadata": {},
   "outputs": [],
   "source": []
  }
 ],
 "metadata": {
  "kernelspec": {
   "display_name": "Python 3",
   "language": "python",
   "name": "python3"
  },
  "language_info": {
   "codemirror_mode": {
    "name": "ipython",
    "version": 3
   },
   "file_extension": ".py",
   "mimetype": "text/x-python",
   "name": "python",
   "nbconvert_exporter": "python",
   "pygments_lexer": "ipython3",
   "version": "3.10.1"
  }
 },
 "nbformat": 4,
 "nbformat_minor": 2
}
