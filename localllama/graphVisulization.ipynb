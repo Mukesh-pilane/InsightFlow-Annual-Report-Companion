{
 "cells": [
  {
   "cell_type": "code",
   "execution_count": 6,
   "metadata": {},
   "outputs": [],
   "source": [
    "import os"
   ]
  },
  {
   "cell_type": "code",
   "execution_count": 7,
   "metadata": {},
   "outputs": [],
   "source": [
    "os.environ[\"GRADIENT_ACCESS_TOKEN\"] = \"qmo0P8rEERRVzm0XoEIvm9j41aQEu5Z2\"\n",
    "os.environ[\"GRADIENT_WORKSPACE_ID\"] = \"fde7dc26-fb49-4ba9-9fc3-818e15c189ae_workspace\""
   ]
  },
  {
   "cell_type": "code",
   "execution_count": 8,
   "metadata": {},
   "outputs": [],
   "source": [
    "data =\"\"\"\n",
    "The provided information regarding TCS's revenue for the financial years 2023 and 2022 can be summarized as follows:\n",
    "\n",
    "FY 2023:\n",
    "\n",
    "* Revenue from operations: ₹225,458 crore\n",
    "* Earnings before interest, tax, depreciation, and amortization (EBITDA): ₹59,259 crore\n",
    "* Profit before interest and tax: ₹56,907 crore\n",
    "* Profit after tax attributable to shareholders of the company: ₹42,147 crore\n",
    "* Earnings per share (in `): ₹115.19\n",
    "\n",
    "FY 2022:\n",
    "\n",
    "* Revenue from operations: ₹191,754 crore\n",
    "* EBITDA: ₹53,057 crore\n",
    "* Profit before interest and tax: ₹51,687 crore\n",
    "* Profit after tax attributable to shareholders of the company: ₹38,327 crore\n",
    "* Earnings per share (in `): ₹103.62\n",
    "\n",
    "Note: All amounts are in Indian Rupees (₹) and crore, unless specified otherwise.\n",
    "\"\"\""
   ]
  },
  {
   "cell_type": "code",
   "execution_count": 9,
   "metadata": {},
   "outputs": [],
   "source": [
    "from loadllm import Loadllm"
   ]
  },
  {
   "cell_type": "code",
   "execution_count": 18,
   "metadata": {},
   "outputs": [],
   "source": [
    "from langchain.prompts import PromptTemplate\n",
    "from langchain.chains import LLMChain"
   ]
  },
  {
   "cell_type": "code",
   "execution_count": 80,
   "metadata": {},
   "outputs": [],
   "source": [
    "graphtemplate = \"\"\"Based on this data:\n",
    "{data} \n",
    "if there is comparison posible or from that data there is possibility to make a chart then provide a json data in json data numeric value should be numeric only mention units like core seperately indescription only on other text just json data\"\"\"\n",
    "\n",
    "graphPrompt = PromptTemplate.from_template(graphtemplate)"
   ]
  },
  {
   "cell_type": "code",
   "execution_count": 81,
   "metadata": {},
   "outputs": [],
   "source": [
    "llm = Loadllm.load_llm()"
   ]
  },
  {
   "cell_type": "code",
   "execution_count": 82,
   "metadata": {},
   "outputs": [],
   "source": [
    "llm_forgraph = LLMChain(prompt=graphPrompt, llm=llm)"
   ]
  },
  {
   "cell_type": "code",
   "execution_count": 83,
   "metadata": {},
   "outputs": [],
   "source": [
    "out = llm_forgraph.run(data=data, chart=\"bar\")"
   ]
  },
  {
   "cell_type": "code",
   "execution_count": 85,
   "metadata": {},
   "outputs": [
    {
     "name": "stdout",
     "output_type": "stream",
     "text": [
      " Based on the provided data from TCS, here is a comparison of the revenue and profits for FY 2023 and FY 2022:\n",
      "\n",
      "{\n",
      "\"FY 2023\": {\n",
      "\"Revenue from operations\": 225458,\n",
      "\"EBITDA\": 59259,\n",
      "\"Profit before interest and tax\": 56907,\n",
      "\"Profit after tax attributable to shareholders of the company\": 42147,\n",
      "\"Earnings per share (in `)\": 115.19\n",
      "},\n",
      "\"FY 2022\": {\n",
      "\"Revenue from operations\": 191754,\n",
      "\"EBITDA\": 53057,\n",
      "\"Profit before interest and tax\": 51687,\n",
      "\"Profit after tax attributable to shareholders of the company\": 38327,\n",
      "\"Earnings per share (in `)\": 103.62\n",
      "}\n",
      "\n",
      "It can be observed from the comparison that there has been a significant increase in revenue and profits for FY 2023 compared to FY 2022. The revenue from operations in FY 2023 is 22.54% higher than in FY 2022, and the EBITDA is 25.96% higher. Similarly, the profit before interest and tax, profit after tax attributable to shareholders of the company, and earnings per share (in `) have also shown significant increases. \n"
     ]
    }
   ],
   "source": [
    "print(out)"
   ]
  },
  {
   "cell_type": "code",
   "execution_count": null,
   "metadata": {},
   "outputs": [],
   "source": []
  }
 ],
 "metadata": {
  "kernelspec": {
   "display_name": "Python 3",
   "language": "python",
   "name": "python3"
  },
  "language_info": {
   "codemirror_mode": {
    "name": "ipython",
    "version": 3
   },
   "file_extension": ".py",
   "mimetype": "text/x-python",
   "name": "python",
   "nbconvert_exporter": "python",
   "pygments_lexer": "ipython3",
   "version": "3.10.1"
  }
 },
 "nbformat": 4,
 "nbformat_minor": 2
}
